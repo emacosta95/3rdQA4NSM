{
 "cells": [
  {
   "cell_type": "markdown",
   "id": "278d9716",
   "metadata": {},
   "source": [
    "## Test the hybrid quasiparticle configuration system"
   ]
  },
  {
   "cell_type": "markdown",
   "id": "d0910028",
   "metadata": {},
   "source": [
    "Imports"
   ]
  },
  {
   "cell_type": "code",
   "execution_count": 1,
   "id": "45a254d5",
   "metadata": {},
   "outputs": [
    {
     "name": "stderr",
     "output_type": "stream",
     "text": [
      "/home/ecosta/miniconda3/envs/quantum_annealing_nsm/lib/python3.10/site-packages/tqdm_joblib/__init__.py:4: TqdmWarning: IProgress not found. Please update jupyter and ipywidgets. See https://ipywidgets.readthedocs.io/en/stable/user_install.html\n",
      "  from tqdm.autonotebook import tqdm\n"
     ]
    }
   ],
   "source": [
    "from typing import List\n",
    "import numpy as np\n",
    "from scipy.sparse import lil_matrix\n",
    "from NSMFermions.nuclear_physics_utils import SingleParticleState,get_twobody_nuclearshell_model\n",
    "from NSMFermions.hamiltonian_utils import FermiHubbardHamiltonian\n",
    "from NSMFermions import QuasiParticlesConverterOnlynnpp,QuasiParticlesConverter\n",
    "from scipy.sparse.linalg import eigsh"
   ]
  },
  {
   "cell_type": "code",
   "execution_count": 122,
   "id": "98b8f96c",
   "metadata": {},
   "outputs": [],
   "source": [
    "class HybridQuasiParticleConverter():\n",
    "    \n",
    "    def __init__(self,):\n",
    "        pass\n",
    "    \n",
    "    def initialize_shell(self,state_encoding:List,fermionic_subset:np.ndarray):\n",
    "        \n",
    "        self.fermionic_subset=fermionic_subset\n",
    "        self.quasiparticle_subset= np.setdiff1d(np.arange(len(state_encoding)), fermionic_subset)\n",
    "        print(self.quasiparticle_subset)\n",
    "        #### nn and pp\n",
    "        couples=[]\n",
    "\n",
    "        for a,state_a in enumerate(np.array(state_encoding)[self.quasiparticle_subset]):\n",
    "            for b,state_b in enumerate(np.array(state_encoding)[self.quasiparticle_subset]):\n",
    "                a_corresponding_index=self.quasiparticle_subset[a]\n",
    "                b_corresponding_index=self.quasiparticle_subset[b]\n",
    "                if b_corresponding_index>a_corresponding_index:\n",
    "                    _,_,ja,ma,_,tza=state_a\n",
    "                    _,_,jb,mb,_,tzb=state_b\n",
    "                    if ja==jb and ma==-mb and tza==tzb:\n",
    "                        couples.append([a_corresponding_index,b_corresponding_index])     \n",
    "\n",
    "        self.couples=couples\n",
    "\n",
    "\n",
    "\n",
    "    def new_base_computation(self,base:np.ndarray):\n",
    "        \n",
    "        ref_base=base.copy()\n",
    "        #indices=np.nonzero(base)[0]\n",
    "        new_base=np.zeros(len(self.couples)+self.fermionic_subset.shape[0])\n",
    "        value=np.sum(base[self.quasiparticle_subset])\n",
    "        value2=np.sum(base[self.fermionic_subset])\n",
    "        \n",
    "                \n",
    "        list_of_token_indices=[]\n",
    "        \n",
    "        for i in range(len(self.couples)):\n",
    "            if base[self.couples[i][0]]+base[self.couples[i][1]]!=2 :\n",
    "                continue\n",
    "            else:\n",
    "                new_base[i]+=1\n",
    "                ref_base[self.couples[i][0]]=0\n",
    "                ref_base[self.couples[i][1]]=0\n",
    "        \n",
    "        new_base[len(self.couples):]=base[self.fermionic_subset]\n",
    "        if 2*np.sum(new_base[:len(self.couples)]) +np.sum(new_base[len(self.couples):]) == np.sum(base):\n",
    "            return new_base\n",
    "        \n",
    "    def get_the_basis_matrix_transformation(self,basis:np.ndarray):\n",
    "        \n",
    "        self.quasiparticle_basis=[]\n",
    "        self.rest_basis=[]\n",
    "        \n",
    "        for i,b in enumerate(basis):\n",
    "            qp_base=self.new_base_computation(base=b.copy())\n",
    "            \n",
    "            if qp_base is not(None):\n",
    "\n",
    "                self.quasiparticle_basis.append(qp_base)\n",
    "            else:\n",
    "                self.rest_basis.append(b.copy())\n",
    "        self.quasiparticle_basis=np.asarray(self.quasiparticle_basis)\n",
    "        \n",
    "        self.rest_basis=np.asarray(self.rest_basis)\n",
    "        \n",
    "        self.particles2quasiparticles=lil_matrix((self.quasiparticle_basis.shape[0],basis.shape[0]))\n",
    "        self.particles2restofstates=lil_matrix((self.rest_basis.shape[0],basis.shape[0]))\n",
    "        qp_idx=0\n",
    "        rest_idx=0\n",
    "        for i,b in enumerate(basis):\n",
    "            qp_base=self.new_base_computation(base=b.copy())\n",
    "            \n",
    "            if qp_base is not(None):\n",
    "                self.particles2quasiparticles[qp_idx,i]=1.\n",
    "                qp_idx+=1\n",
    "            else:\n",
    "                self.particles2restofstates[rest_idx,i]=1\n",
    "                rest_idx+=1\n",
    "                \n"
   ]
  },
  {
   "cell_type": "markdown",
   "id": "41dd0f6c",
   "metadata": {},
   "source": [
    "Load the encoding"
   ]
  },
  {
   "cell_type": "code",
   "execution_count": 190,
   "id": "8c6ffa3a",
   "metadata": {},
   "outputs": [
    {
     "name": "stdout",
     "output_type": "stream",
     "text": [
      "[ 0  1  2  3  4  5 18 19 20 21 22 23]\n",
      "[ 6  7  8  9 10 11 12 13 14 15 16 17]\n",
      "[[np.int64(6), np.int64(7)], [np.int64(8), np.int64(11)], [np.int64(9), np.int64(10)], [np.int64(12), np.int64(17)], [np.int64(13), np.int64(16)], [np.int64(14), np.int64(15)]]\n"
     ]
    }
   ],
   "source": [
    "file_name='data/usdb.nat'\n",
    "\n",
    "SPS=SingleParticleState(file_name=file_name)\n",
    "\n",
    "HQPC=HybridQuasiParticleConverter()\n",
    "\n",
    "index=np.array( [0,1,2,3,4,5])\n",
    "index2=np.array([6,7,8,9,10,11])+12\n",
    "\n",
    "fermion_subset=np.concatenate((index,index2)) \n",
    "print(fermion_subset)\n",
    "HQPC.initialize_shell(state_encoding=SPS.state_encoding,fermionic_subset=fermion_subset)\n",
    "print(HQPC.couples)\n",
    "QPC=QuasiParticlesConverterOnlynnpp()\n",
    "QPC.initialize_shell(state_encoding=SPS.state_encoding)\n",
    "\n",
    "QPCnp=QuasiParticlesConverter()\n",
    "QPCnp.initialize_shell(state_encoding=SPS.state_encoding)"
   ]
  },
  {
   "cell_type": "markdown",
   "id": "ae900791",
   "metadata": {},
   "source": [
    "#### Test using the basis of the NSM Hamiltonian"
   ]
  },
  {
   "cell_type": "code",
   "execution_count": 183,
   "id": "7ef9d50f",
   "metadata": {},
   "outputs": [],
   "source": [
    "size=len(SPS.energies)//2\n",
    "nparticles_a=4\n",
    "nparticles_b=10"
   ]
  },
  {
   "cell_type": "code",
   "execution_count": 125,
   "id": "c40ac985",
   "metadata": {},
   "outputs": [
    {
     "name": "stdout",
     "output_type": "stream",
     "text": [
      "Computing the matrix, pls wait... (u_u) \n",
      "\n"
     ]
    },
    {
     "name": "stderr",
     "output_type": "stream",
     "text": [
      "100%|██████████| 24/24 [00:47<00:00,  1.96s/it]\n"
     ]
    }
   ],
   "source": [
    "twobody_matrix,_=get_twobody_nuclearshell_model(file_name=file_name)"
   ]
  },
  {
   "cell_type": "code",
   "execution_count": 191,
   "id": "178a3842",
   "metadata": {},
   "outputs": [
    {
     "name": "stdout",
     "output_type": "stream",
     "text": [
      "Building two-body operator with 16496 terms...\n"
     ]
    },
    {
     "name": "stderr",
     "output_type": "stream",
     "text": [
      "100%|██████████| 16496/16496 [00:02<00:00, 6199.51it/s]\n"
     ]
    },
    {
     "name": "stdout",
     "output_type": "stream",
     "text": [
      "✅ Two-body operator built: shape=(4206, 4206), nnz=579704\n",
      "[-145.69199725]\n"
     ]
    }
   ],
   "source": [
    "NSMHamiltonian=FermiHubbardHamiltonian(size_a=size,size_b=size,nparticles_a=nparticles_a,nparticles_b=nparticles_b,symmetries=[SPS.total_M_zero])\n",
    "NSMHamiltonian.get_external_potential(SPS.energies)\n",
    "NSMHamiltonian.get_twobody_interaction_optimized(twobody_matrix)\n",
    "NSMHamiltonian.get_hamiltonian()\n",
    "\n",
    "egs,psigs=NSMHamiltonian.get_spectrum(n_states=1)\n",
    "print(egs)\n",
    "\n"
   ]
  },
  {
   "cell_type": "code",
   "execution_count": 2,
   "id": "fd021750",
   "metadata": {},
   "outputs": [
    {
     "ename": "NameError",
     "evalue": "name 'HQPC' is not defined",
     "output_type": "error",
     "traceback": [
      "\u001b[0;31m---------------------------------------------------------------------------\u001b[0m",
      "\u001b[0;31mNameError\u001b[0m                                 Traceback (most recent call last)",
      "Cell \u001b[0;32mIn[2], line 1\u001b[0m\n\u001b[0;32m----> 1\u001b[0m \u001b[43mHQPC\u001b[49m\u001b[38;5;241m.\u001b[39mget_the_basis_matrix_transformation(NSMHamiltonian\u001b[38;5;241m.\u001b[39mbasis\u001b[38;5;241m.\u001b[39mcopy())\n\u001b[1;32m      3\u001b[0m QPC\u001b[38;5;241m.\u001b[39mget_the_basis_matrix_transformation(NSMHamiltonian\u001b[38;5;241m.\u001b[39mbasis\u001b[38;5;241m.\u001b[39mcopy())\n\u001b[1;32m      5\u001b[0m QPCnp\u001b[38;5;241m.\u001b[39mget_the_basis_matrix_transformation(NSMHamiltonian\u001b[38;5;241m.\u001b[39mbasis\u001b[38;5;241m.\u001b[39mcopy())\n",
      "\u001b[0;31mNameError\u001b[0m: name 'HQPC' is not defined"
     ]
    }
   ],
   "source": [
    "HQPC.get_the_basis_matrix_transformation(NSMHamiltonian.basis.copy())\n",
    "\n",
    "QPC.get_the_basis_matrix_transformation(NSMHamiltonian.basis.copy())\n",
    "\n",
    "QPCnp.get_the_basis_matrix_transformation(NSMHamiltonian.basis.copy())\n",
    "print(HQPC.quasiparticle_basis.shape,QPC.quasiparticle_basis.shape,QPCnp.quasiparticle_basis.shape)\n"
   ]
  },
  {
   "cell_type": "code",
   "execution_count": 193,
   "id": "b5939458",
   "metadata": {},
   "outputs": [
    {
     "name": "stdout",
     "output_type": "stream",
     "text": [
      "(200, 4206)\n",
      "(200, 18)\n"
     ]
    }
   ],
   "source": [
    "print(HQPC.particles2quasiparticles.shape)\n",
    "print(HQPC.quasiparticle_basis.shape)"
   ]
  },
  {
   "cell_type": "code",
   "execution_count": null,
   "id": "4629f496",
   "metadata": {},
   "outputs": [],
   "source": [
    "for i,b in enumerate(NSMHamiltonian.basis):\n",
    "    for j,d in enumerate(HQPC.quasiparticle_basis):\n",
    "        if HQPC.particles2quasiparticles[j,i]!=0.:\n",
    "            print('basis=',np.nonzero(b)[0],b)\n",
    "            print('quasiparticle=',np.nonzero(d)[0])    \n",
    "            print(HQPC.new_base_computation(b))\n",
    "            print('quasiparticle base=',QPC.new_base_computation(b))\n",
    "            print(HQPC.particles2quasiparticles[j,i],'\\n')\n"
   ]
  },
  {
   "cell_type": "code",
   "execution_count": 1,
   "id": "825b9a7c",
   "metadata": {},
   "outputs": [
    {
     "ename": "NameError",
     "evalue": "name 'HQPC' is not defined",
     "output_type": "error",
     "traceback": [
      "\u001b[0;31m---------------------------------------------------------------------------\u001b[0m",
      "\u001b[0;31mNameError\u001b[0m                                 Traceback (most recent call last)",
      "Cell \u001b[0;32mIn[1], line 1\u001b[0m\n\u001b[0;32m----> 1\u001b[0m hamiltonian_HQ\u001b[38;5;241m=\u001b[39m\u001b[43mHQPC\u001b[49m\u001b[38;5;241m.\u001b[39mparticles2quasiparticles \u001b[38;5;241m@\u001b[39m NSMHamiltonian\u001b[38;5;241m.\u001b[39mhamiltonian \u001b[38;5;241m@\u001b[39m HQPC\u001b[38;5;241m.\u001b[39mparticles2quasiparticles\u001b[38;5;241m.\u001b[39mT\n\u001b[1;32m      2\u001b[0m egsHQ,psi_HQ\u001b[38;5;241m=\u001b[39meigsh(hamiltonian_HQ,k\u001b[38;5;241m=\u001b[39m\u001b[38;5;241m1\u001b[39m,which\u001b[38;5;241m=\u001b[39m\u001b[38;5;124m'\u001b[39m\u001b[38;5;124mSA\u001b[39m\u001b[38;5;124m'\u001b[39m)\n\u001b[1;32m      3\u001b[0m \u001b[38;5;28mprint\u001b[39m(QPC\u001b[38;5;241m.\u001b[39mquasiparticle_basis\u001b[38;5;241m.\u001b[39mshape)\n",
      "\u001b[0;31mNameError\u001b[0m: name 'HQPC' is not defined"
     ]
    }
   ],
   "source": [
    "hamiltonian_HQ=HQPC.particles2quasiparticles @ NSMHamiltonian.hamiltonian @ HQPC.particles2quasiparticles.T\n",
    "egsHQ,psi_HQ=eigsh(hamiltonian_HQ,k=1,which='SA')\n",
    "print(QPC.quasiparticle_basis.shape)\n",
    "hamiltonian_Q=QPC.particles2quasiparticles @ NSMHamiltonian.hamiltonian @ QPC.particles2quasiparticles.T\n",
    "egsQ,psi_Q=eigsh(hamiltonian_Q,k=1,which='SA')\n",
    "\n",
    "hamiltonian_Qnp=QPCnp.particles2quasiparticles @ NSMHamiltonian.hamiltonian @ QPCnp.particles2quasiparticles.T\n",
    "egsQnp,psi_Qnp=eigsh(hamiltonian_Qnp,k=1,which='SA')\n",
    "\n",
    "print(egsQ,egsHQ,egsQnp)\n",
    "\n",
    "psi_HQ2particle=HQPC.particles2quasiparticles.T @ psi_HQ[:,0]\n",
    "psi_HQ2particle/=np.linalg.norm(psi_HQ2particle)\n",
    "\n",
    "psi_Q2particle=QPC.particles2quasiparticles.T @ psi_Q[:,0]\n",
    "psi_Q2particle/=np.linalg.norm(psi_Q2particle)\n",
    "\n",
    "psi_Qnp2particle=QPCnp.particles2quasiparticles.T @ psi_Qnp[:,0]\n",
    "psi_Qnp2particle/=np.linalg.norm(psi_Qnp2particle)\n",
    "\n",
    "print(psigs[:,0].dot(psi_Q2particle.conj())*np.conjugate(psigs[:,0].dot(psi_Q2particle.conj())))\n",
    "\n",
    "print(psigs[:,0].dot(psi_HQ2particle.conj())*np.conjugate(psigs[:,0].dot(psi_HQ2particle.conj())))\n",
    "\n",
    "\n",
    "print(psigs[:,0].dot(psi_Qnp2particle.conj())*np.conjugate(psigs[:,0].dot(psi_Qnp2particle.conj())))\n"
   ]
  },
  {
   "cell_type": "code",
   "execution_count": 182,
   "id": "b3f6ea34",
   "metadata": {},
   "outputs": [
    {
     "data": {
      "image/png": "[encoded data removed]",
      "text/plain": [
       "<Figure size 640x480 with 1 Axes>"
      ]
     },
     "metadata": {},
     "output_type": "display_data"
    }
   ],
   "source": [
    "import matplotlib.pyplot as plt\n",
    "\n",
    "#plt.bar(np.arange(psigs.shape[0])+0.5,psi_Q2particle*psi_Q2particle.conj())\n",
    "plt.scatter(np.arange(psigs.shape[0]),psi_HQ2particle*psi_HQ2particle.conj()-psigs[:,0]*psigs[:,0].conj())\n",
    "plt.show()"
   ]
  },
  {
   "cell_type": "markdown",
   "id": "0bac3299",
   "metadata": {},
   "source": [
    "#### Search of the best set of fermionic DOF"
   ]
  },
  {
   "cell_type": "code",
   "execution_count": 235,
   "id": "ba1676d1",
   "metadata": {},
   "outputs": [],
   "source": [
    "couples=[]"
   ]
  },
  {
   "cell_type": "markdown",
   "id": "e92280be",
   "metadata": {},
   "source": [
    "#### Trace out proton degrees of freedom "
   ]
  },
  {
   "cell_type": "code",
   "execution_count": null,
   "id": "62562930",
   "metadata": {},
   "outputs": [],
   "source": [
    "\n",
    "\n"
   ]
  },
  {
   "cell_type": "code",
   "execution_count": 176,
   "id": "54f5cd29",
   "metadata": {},
   "outputs": [
    {
     "name": "stdout",
     "output_type": "stream",
     "text": [
      "(16, 16) (16, 16)\n"
     ]
    }
   ],
   "source": [
    "rho_Q2particle=NSMHamiltonian.reduced_state(indices=index,psi=psi_Q2particle)\n",
    "rho_gs=NSMHamiltonian.reduced_state(indices=index,psi=psigs)\n",
    "print(rho_Q2particle.shape,rho_gs.shape)\n",
    "\n",
    "\n",
    "# basis for the reduced state\n",
    "\n",
    "combinations = product([0, 1], repeat=len(index))\n",
    "# Convert each combination into a numpy array\n",
    "basis = np.asarray([np.array(combination) for combination in combinations])"
   ]
  },
  {
   "cell_type": "code",
   "execution_count": 178,
   "id": "d7fbd459",
   "metadata": {},
   "outputs": [
    {
     "name": "stdout",
     "output_type": "stream",
     "text": [
      "0.9999999999999999\n"
     ]
    }
   ],
   "source": [
    "print(np.linalg.trace(rho_Q2particle))"
   ]
  },
  {
   "cell_type": "code",
   "execution_count": 180,
   "id": "475ac798",
   "metadata": {},
   "outputs": [
    {
     "name": "stdout",
     "output_type": "stream",
     "text": [
      "0.6051154448562251\n"
     ]
    },
    {
     "data": {
      "image/png": "[encoded data removed]",
      "text/plain": [
       "<Figure size 640x480 with 2 Axes>"
      ]
     },
     "metadata": {},
     "output_type": "display_data"
    }
   ],
   "source": [
    "print(fidelity(rho_gs,rho_Q2particle))\n",
    "\n",
    "mi_gs=NSMHamiltonian.mutual_info(psi=psigs)\n",
    "\n",
    "plt.imshow(mi_gs)\n",
    "plt.colorbar()\n",
    "plt.show()"
   ]
  },
  {
   "cell_type": "code",
   "execution_count": 182,
   "id": "6ed13b9f",
   "metadata": {},
   "outputs": [
    {
     "data": {
      "image/png": "[encoded data removed]",
      "text/plain": [
       "<Figure size 640x480 with 2 Axes>"
      ]
     },
     "metadata": {},
     "output_type": "display_data"
    }
   ],
   "source": [
    "mi_Q=NSMHamiltonian.mutual_info(psi=psi_HQ2particle)\n",
    "\n",
    "plt.imshow(mi_Q)\n",
    "plt.colorbar()\n",
    "plt.show()"
   ]
  }
 ],
 "metadata": {
  "kernelspec": {
   "display_name": "quantum_annealing_nsm",
   "language": "python",
   "name": "python3"
  },
  "language_info": {
   "codemirror_mode": {
    "name": "ipython",
    "version": 3
   },
   "file_extension": ".py",
   "mimetype": "text/x-python",
   "name": "python",
   "nbconvert_exporter": "python",
   "pygments_lexer": "ipython3",
   "version": "3.10.18"
  }
 },
 "nbformat": 4,
 "nbformat_minor": 5
}
