{
 "cells": [
  {
   "cell_type": "markdown",
   "id": "278d9716",
   "metadata": {},
   "source": [
    "## Test the hybrid quasiparticle configuration system"
   ]
  },
  {
   "cell_type": "markdown",
   "id": "d0910028",
   "metadata": {},
   "source": [
    "Imports"
   ]
  },
  {
   "cell_type": "code",
   "execution_count": 121,
   "id": "45a254d5",
   "metadata": {},
   "outputs": [],
   "source": [
    "from typing import List\n",
    "import numpy as np\n",
    "from scipy.sparse import lil_matrix\n",
    "from NSMFermions.nuclear_physics_utils import SingleParticleState,get_twobody_nuclearshell_model\n",
    "from NSMFermions.hamiltonian_utils import FermiHubbardHamiltonian\n",
    "from scipy.sparse.linalg import eigsh"
   ]
  },
  {
   "cell_type": "code",
   "execution_count": 122,
   "id": "98b8f96c",
   "metadata": {},
   "outputs": [],
   "source": [
    "class HybridQuasiParticleConverter():\n",
    "    \n",
    "    def __init__(self,):\n",
    "        pass\n",
    "    \n",
    "    def initialize_shell(self,state_encoding:List,fermionic_subset:np.ndarray):\n",
    "        \n",
    "        self.fermionic_subset=fermionic_subset\n",
    "        self.quasiparticle_subset= np.setdiff1d(np.arange(len(state_encoding)), fermionic_subset)\n",
    "        print(self.quasiparticle_subset)\n",
    "        #### nn and pp\n",
    "        couples=[]\n",
    "\n",
    "        for a,state_a in enumerate(np.array(state_encoding)[self.quasiparticle_subset]):\n",
    "            for b,state_b in enumerate(np.array(state_encoding)[self.quasiparticle_subset]):\n",
    "                a_corresponding_index=self.quasiparticle_subset[a]\n",
    "                b_corresponding_index=self.quasiparticle_subset[b]\n",
    "                if b_corresponding_index>a_corresponding_index:\n",
    "                    _,_,ja,ma,_,tza=state_a\n",
    "                    _,_,jb,mb,_,tzb=state_b\n",
    "                    if ja==jb and ma==-mb and tza==tzb:\n",
    "                        couples.append([a_corresponding_index,b_corresponding_index])     \n",
    "\n",
    "        self.couples=couples\n",
    "\n",
    "\n",
    "\n",
    "    def new_base_computation(self,base:np.ndarray):\n",
    "        \n",
    "        #indices=np.nonzero(base)[0]\n",
    "        new_base=np.zeros(len(self.couples)+self.fermionic_subset.shape[0])\n",
    "        value=np.sum(base[self.quasiparticle_subset])\n",
    "        value2=np.sum(base[self.fermionic_subset])\n",
    "    \n",
    "                \n",
    "        list_of_token_indices=[]\n",
    "        \n",
    "        for i in range(len(self.couples)):\n",
    "            \n",
    "            if base[self.couples[i][0]]+base[self.couples[i][1]]!=2 :\n",
    "                continue\n",
    "            else:\n",
    "                new_base[i]+=1\n",
    "                base[self.couples[i][0]]=0\n",
    "                base[self.couples[i][1]]=0\n",
    "        \n",
    "        new_base[len(self.couples):]=base[self.fermionic_subset]\n",
    "        \n",
    "        if np.sum(new_base[:len(self.couples)])==value//2 and np.sum(new_base[len(self.couples):])==value2:\n",
    "           return new_base\n",
    "        \n",
    "    def get_the_basis_matrix_transformation(self,basis:np.ndarray):\n",
    "        \n",
    "        self.quasiparticle_basis=[]\n",
    "        self.rest_basis=[]\n",
    "        \n",
    "        for i,b in enumerate(basis):\n",
    "            qp_base=self.new_base_computation(base=b.copy())\n",
    "            \n",
    "            if qp_base is not(None):\n",
    "\n",
    "                self.quasiparticle_basis.append(qp_base)\n",
    "            else:\n",
    "                self.rest_basis.append(b.copy())\n",
    "        self.quasiparticle_basis=np.asarray(self.quasiparticle_basis)\n",
    "        \n",
    "        self.rest_basis=np.asarray(self.rest_basis)\n",
    "        \n",
    "        self.particles2quasiparticles=lil_matrix((self.quasiparticle_basis.shape[0],basis.shape[0]))\n",
    "        self.particles2restofstates=lil_matrix((self.rest_basis.shape[0],basis.shape[0]))\n",
    "        qp_idx=0\n",
    "        rest_idx=0\n",
    "        for i,b in enumerate(basis):\n",
    "            qp_base=self.new_base_computation(base=b.copy())\n",
    "            \n",
    "            if qp_base is not(None):\n",
    "                self.particles2quasiparticles[qp_idx,i]=1.\n",
    "                qp_idx+=1\n",
    "            else:\n",
    "                self.particles2restofstates[rest_idx,i]=1\n",
    "                rest_idx+=1\n",
    "                \n"
   ]
  },
  {
   "cell_type": "markdown",
   "id": "41dd0f6c",
   "metadata": {},
   "source": [
    "Load the encoding"
   ]
  },
  {
   "cell_type": "code",
   "execution_count": null,
   "id": "8c6ffa3a",
   "metadata": {},
   "outputs": [
    {
     "name": "stdout",
     "output_type": "stream",
     "text": [
      "[ 0  1  4  5  8 11 12 13 16 17 20 23]\n",
      "[[np.int64(0), np.int64(5)], [np.int64(1), np.int64(4)], [np.int64(8), np.int64(11)], [np.int64(12), np.int64(17)], [np.int64(13), np.int64(16)], [np.int64(20), np.int64(23)]]\n"
     ]
    }
   ],
   "source": [
    "file_name='data/usdb.nat'\n",
    "\n",
    "SPS=SingleParticleState(file_name=file_name)\n",
    "\n",
    "HQPC=HybridQuasiParticleConverter()\n",
    "\n",
    "index=np.array( [2,3,6,7,9,10])\n",
    "index2=index+12\n",
    "\n",
    "fermion_subset=np.concatenate((index,index2))\n",
    "HQPC.initialize_shell(state_encoding=SPS.state_encoding,fermionic_subset=fermion_subset)\n",
    "print(HQPC.couples)\n"
   ]
  },
  {
   "cell_type": "markdown",
   "id": "ae900791",
   "metadata": {},
   "source": [
    "#### Test using the basis of the NSM Hamiltonian"
   ]
  },
  {
   "cell_type": "code",
   "execution_count": 156,
   "id": "7ef9d50f",
   "metadata": {},
   "outputs": [],
   "source": [
    "size=len(SPS.energies)//2\n",
    "nparticles_a=2\n",
    "nparticles_b=2"
   ]
  },
  {
   "cell_type": "code",
   "execution_count": 127,
   "id": "c40ac985",
   "metadata": {},
   "outputs": [
    {
     "name": "stdout",
     "output_type": "stream",
     "text": [
      "Computing the matrix, pls wait... (u_u) \n",
      "\n"
     ]
    },
    {
     "name": "stderr",
     "output_type": "stream",
     "text": [
      "100%|██████████| 24/24 [00:47<00:00,  1.96s/it]\n"
     ]
    }
   ],
   "source": [
    "twobody_matrix,_=get_twobody_nuclearshell_model(file_name=file_name)"
   ]
  },
  {
   "cell_type": "code",
   "execution_count": 166,
   "id": "178a3842",
   "metadata": {},
   "outputs": [
    {
     "name": "stdout",
     "output_type": "stream",
     "text": [
      "Building two-body operator with 16496 terms...\n"
     ]
    },
    {
     "name": "stderr",
     "output_type": "stream",
     "text": [
      "100%|██████████| 16496/16496 [00:01<00:00, 11567.45it/s]"
     ]
    },
    {
     "name": "stdout",
     "output_type": "stream",
     "text": [
      "✅ Two-body operator built: shape=(640, 640), nnz=54112\n",
      "[-41.39649007]\n"
     ]
    },
    {
     "name": "stderr",
     "output_type": "stream",
     "text": [
      "\n"
     ]
    }
   ],
   "source": [
    "NSMHamiltonian=FermiHubbardHamiltonian(size_a=size,size_b=size,nparticles_a=nparticles_a,nparticles_b=nparticles_b,symmetries=[SPS.total_M_zero])\n",
    "NSMHamiltonian.get_external_potential(SPS.energies)\n",
    "NSMHamiltonian.get_twobody_interaction_optimized(twobody_matrix)\n",
    "NSMHamiltonian.get_hamiltonian()\n",
    "\n",
    "egs,psigs=NSMHamiltonian.get_spectrum(n_states=1)\n",
    "print(egs)\n",
    "\n",
    "HQPC.get_the_basis_matrix_transformation(NSMHamiltonian.basis)\n",
    "\n"
   ]
  },
  {
   "cell_type": "code",
   "execution_count": 153,
   "id": "fd021750",
   "metadata": {},
   "outputs": [
    {
     "name": "stdout",
     "output_type": "stream",
     "text": [
      "(234, 18)\n"
     ]
    }
   ],
   "source": [
    "print(HQPC.quasiparticle_basis.shape)"
   ]
  },
  {
   "cell_type": "code",
   "execution_count": null,
   "id": "825b9a7c",
   "metadata": {},
   "outputs": [
    {
     "name": "stdout",
     "output_type": "stream",
     "text": [
      "[-38.60496514]\n",
      "(640, 1)\n",
      "0.7817558170399592\n"
     ]
    }
   ],
   "source": [
    "hamiltonian_Q=HQPC.particles2quasiparticles @ NSMHamiltonian.hamiltonian @ HQPC.particles2quasiparticles.T\n",
    "egs,psi_Q=eigsh(hamiltonian_Q,k=1,which='SA')\n",
    "\n",
    "print(egs)\n",
    "\n",
    "psi_Q2particle=HQPC.particles2quasiparticles.T @ psi_Q\n",
    "\n",
    "print(psi_Q2particle.shape)\n",
    "\n",
    "print(1-np.linalg.norm(psigs[:,0].dot(psi_Q2particle[:,0]))**2)"
   ]
  }
 ],
 "metadata": {
  "kernelspec": {
   "display_name": "quantum_annealing_nsm",
   "language": "python",
   "name": "python3"
  },
  "language_info": {
   "codemirror_mode": {
    "name": "ipython",
    "version": 3
   },
   "file_extension": ".py",
   "mimetype": "text/x-python",
   "name": "python",
   "nbconvert_exporter": "python",
   "pygments_lexer": "ipython3",
   "version": "3.10.18"
  }
 },
 "nbformat": 4,
 "nbformat_minor": 5
}
